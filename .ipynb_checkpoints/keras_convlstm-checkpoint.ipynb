{
 "cells": [
  {
   "cell_type": "code",
   "execution_count": 1,
   "metadata": {},
   "outputs": [],
   "source": [
    "import os\n",
    "import datetime\n",
    "import tensorflow as tf\n",
    "import numpy as np"
   ]
  },
  {
   "cell_type": "code",
   "execution_count": 2,
   "metadata": {},
   "outputs": [],
   "source": [
    "def ConvLSTMAutoEncoder(input_shape=(20, 64, 64, 1)):\n",
    "    model = tf.keras.models.Sequential(name=\"ConvLSTMAutoEncoder\")\n",
    "    \n",
    "    # Encoder: ConvLSTM\n",
    "    model.add(tf.keras.layers.ConvLSTM2D(filters=128, kernel_size=(3, 3), padding='same', return_sequences=True, input_shape=input_shape))\n",
    "    model.add(tf.keras.layers.BatchNormalization())\n",
    "    model.add(tf.keras.layers.ConvLSTM2D(filters=128, kernel_size=(3, 3), padding='same', return_sequences=True))\n",
    "    model.add(tf.keras.layers.BatchNormalization())\n",
    "        \n",
    "    # Decoder: ConvLSTM\n",
    "    model.add(tf.keras.layers.ConvLSTM2D(filters=128, kernel_size=(3, 3), padding='same', return_sequences=True))\n",
    "    model.add(tf.keras.layers.BatchNormalization())\n",
    "    model.add(tf.keras.layers.ConvLSTM2D(filters=1, kernel_size=(3, 3), padding='same', return_sequences=True))\n",
    "    model.add(tf.keras.layers.BatchNormalization())\n",
    "    \n",
    "    return model"
   ]
  },
  {
   "cell_type": "code",
   "execution_count": 3,
   "metadata": {},
   "outputs": [
    {
     "data": {
      "text/plain": [
       "(10000, 20, 64, 64, 1)"
      ]
     },
     "execution_count": 3,
     "metadata": {},
     "output_type": "execute_result"
    }
   ],
   "source": [
    "# Load MovingMNIST Data\n",
    "mnist_test_seq = np.load(\"./data/mnist_test_seq.npy\")\n",
    "x = mnist_test_seq.reshape(10000, 20, 64, 64, 1)\n",
    "x.shape"
   ]
  },
  {
   "cell_type": "code",
   "execution_count": 4,
   "metadata": {},
   "outputs": [
    {
     "name": "stdout",
     "output_type": "stream",
     "text": [
      "WARNING:tensorflow:From /usr/local/lib/python3.6/dist-packages/tensorflow/python/ops/init_ops.py:1251: calling VarianceScaling.__init__ (from tensorflow.python.ops.init_ops) with dtype is deprecated and will be removed in a future version.\n",
      "Instructions for updating:\n",
      "Call initializer instance with the dtype argument instead of passing it to the constructor\n",
      "Model: \"ConvLSTMAutoEncoder\"\n",
      "_________________________________________________________________\n",
      "Layer (type)                 Output Shape              Param #   \n",
      "=================================================================\n",
      "conv_lst_m2d (ConvLSTM2D)    (None, 20, 64, 64, 128)   594944    \n",
      "_________________________________________________________________\n",
      "batch_normalization (BatchNo (None, 20, 64, 64, 128)   512       \n",
      "_________________________________________________________________\n",
      "conv_lst_m2d_1 (ConvLSTM2D)  (None, 20, 64, 64, 128)   1180160   \n",
      "_________________________________________________________________\n",
      "batch_normalization_1 (Batch (None, 20, 64, 64, 128)   512       \n",
      "_________________________________________________________________\n",
      "conv_lst_m2d_2 (ConvLSTM2D)  (None, 20, 64, 64, 128)   1180160   \n",
      "_________________________________________________________________\n",
      "batch_normalization_2 (Batch (None, 20, 64, 64, 128)   512       \n",
      "_________________________________________________________________\n",
      "conv_lst_m2d_3 (ConvLSTM2D)  (None, 20, 64, 64, 1)     4648      \n",
      "_________________________________________________________________\n",
      "batch_normalization_3 (Batch (None, 20, 64, 64, 1)     4         \n",
      "=================================================================\n",
      "Total params: 2,961,452\n",
      "Trainable params: 2,960,682\n",
      "Non-trainable params: 770\n",
      "_________________________________________________________________\n"
     ]
    }
   ],
   "source": [
    "model = ConvLSTMAutoEncoder(input_shape=(20, 64, 64, 1))\n",
    "model.compile(loss='mse', optimizer='adadelta')\n",
    "model.summary()\n",
    "\n",
    "date_string = datetime.datetime.now().strftime('%Y%m%d %H:%M:%S')\n",
    "os.mkdir('./log/'+date_string)\n",
    "print(date_string)"
   ]
  },
  {
   "cell_type": "code",
   "execution_count": null,
   "metadata": {},
   "outputs": [
    {
     "name": "stdout",
     "output_type": "stream",
     "text": [
      "Epoch 1/50\n",
      " 1204/10000 [==>...........................] - ETA: 48:28 - loss: 2745.7606"
     ]
    }
   ],
   "source": [
    "callbacks=[]\n",
    "callbacks.append(tf.keras.callbacks.ModelCheckpoint(filepath='./log/'+date_string+'/bestweights.hdf5', save_best_only=True))\n",
    "model.fit(x, x, epochs=50, batch_size=4, callbacks=callbacks)"
   ]
  },
  {
   "cell_type": "code",
   "execution_count": null,
   "metadata": {},
   "outputs": [],
   "source": []
  },
  {
   "cell_type": "code",
   "execution_count": null,
   "metadata": {},
   "outputs": [],
   "source": []
  },
  {
   "cell_type": "code",
   "execution_count": null,
   "metadata": {},
   "outputs": [],
   "source": []
  },
  {
   "cell_type": "code",
   "execution_count": null,
   "metadata": {},
   "outputs": [],
   "source": []
  },
  {
   "cell_type": "code",
   "execution_count": null,
   "metadata": {},
   "outputs": [],
   "source": []
  },
  {
   "cell_type": "code",
   "execution_count": null,
   "metadata": {},
   "outputs": [],
   "source": []
  },
  {
   "cell_type": "code",
   "execution_count": null,
   "metadata": {},
   "outputs": [],
   "source": []
  },
  {
   "cell_type": "code",
   "execution_count": null,
   "metadata": {},
   "outputs": [],
   "source": []
  },
  {
   "cell_type": "code",
   "execution_count": null,
   "metadata": {},
   "outputs": [],
   "source": []
  },
  {
   "cell_type": "code",
   "execution_count": null,
   "metadata": {},
   "outputs": [],
   "source": []
  }
 ],
 "metadata": {
  "kernelspec": {
   "display_name": "Python 3",
   "language": "python",
   "name": "python3"
  },
  "language_info": {
   "codemirror_mode": {
    "name": "ipython",
    "version": 3
   },
   "file_extension": ".py",
   "mimetype": "text/x-python",
   "name": "python",
   "nbconvert_exporter": "python",
   "pygments_lexer": "ipython3",
   "version": "3.6.9"
  }
 },
 "nbformat": 4,
 "nbformat_minor": 2
}
